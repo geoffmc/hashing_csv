{
 "cells": [
  {
   "cell_type": "code",
   "execution_count": 35,
   "metadata": {},
   "outputs": [],
   "source": [
    "import pandas as pd\n",
    "import hashlib"
   ]
  },
  {
   "cell_type": "code",
   "execution_count": 36,
   "metadata": {},
   "outputs": [],
   "source": [
    "input_filename = \"./customers_source.csv\"\n",
    "output_filename = \"./customers_hashed.csv\""
   ]
  },
  {
   "cell_type": "markdown",
   "metadata": {},
   "source": [
    "### Load the data"
   ]
  },
  {
   "cell_type": "code",
   "execution_count": 37,
   "metadata": {},
   "outputs": [],
   "source": [
    "df = pd.read_csv(input_filename)"
   ]
  },
  {
   "cell_type": "markdown",
   "metadata": {},
   "source": [
    "### Hash the specified columns"
   ]
  },
  {
   "cell_type": "code",
   "execution_count": 38,
   "metadata": {},
   "outputs": [],
   "source": [
    "encrypt_columns = [\"c_first_name\", \"c_last_name\", \"c_email_address\"]\n",
    "\n",
    "for column in encrypt_columns:\n",
    "    df[column+\"_hashed\"] = df[column].apply(lambda x: hashlib.sha512(x.encode()).hexdigest())"
   ]
  },
  {
   "cell_type": "markdown",
   "metadata": {},
   "source": [
    "### Write the hashed result as a CSV file"
   ]
  },
  {
   "cell_type": "code",
   "execution_count": 40,
   "metadata": {},
   "outputs": [],
   "source": [
    "df.to_csv(output_filename)"
   ]
  },
  {
   "cell_type": "markdown",
   "metadata": {},
   "source": [
    "### Show that the data is hashed"
   ]
  },
  {
   "cell_type": "code",
   "execution_count": 41,
   "metadata": {},
   "outputs": [
    {
     "data": {
      "text/html": [
       "<div>\n",
       "<style scoped>\n",
       "    .dataframe tbody tr th:only-of-type {\n",
       "        vertical-align: middle;\n",
       "    }\n",
       "\n",
       "    .dataframe tbody tr th {\n",
       "        vertical-align: top;\n",
       "    }\n",
       "\n",
       "    .dataframe thead th {\n",
       "        text-align: right;\n",
       "    }\n",
       "</style>\n",
       "<table border=\"1\" class=\"dataframe\">\n",
       "  <thead>\n",
       "    <tr style=\"text-align: right;\">\n",
       "      <th></th>\n",
       "      <th>Unnamed: 0</th>\n",
       "      <th>c_customer_sk</th>\n",
       "      <th>c_customer_id</th>\n",
       "      <th>c_current_addr_sk</th>\n",
       "      <th>c_first_shipto_date_sk</th>\n",
       "      <th>c_first_name</th>\n",
       "      <th>c_last_name</th>\n",
       "      <th>c_birth_country</th>\n",
       "      <th>c_email_address</th>\n",
       "      <th>c_first_name_hashed</th>\n",
       "      <th>c_last_name_hashed</th>\n",
       "      <th>c_email_address_hashed</th>\n",
       "    </tr>\n",
       "  </thead>\n",
       "  <tbody>\n",
       "    <tr>\n",
       "      <th>68</th>\n",
       "      <td>68</td>\n",
       "      <td>31782</td>\n",
       "      <td>AAAAAAAAGCMHAAAA</td>\n",
       "      <td>14930</td>\n",
       "      <td>2449719</td>\n",
       "      <td>Heather</td>\n",
       "      <td>Miller</td>\n",
       "      <td>MEXICO</td>\n",
       "      <td>Heather.Miller@8upQdZo0M.org</td>\n",
       "      <td>d30a929612428b6e5da066dd090d12b5205f2d8e1f184e...</td>\n",
       "      <td>d1811f566eeaf741f1bcf5f3e0b452a26e1d6b1e519e2b...</td>\n",
       "      <td>42c33357b71b3619a5fc54a8728a7286b734dabe01052d...</td>\n",
       "    </tr>\n",
       "    <tr>\n",
       "      <th>2</th>\n",
       "      <td>2</td>\n",
       "      <td>4046</td>\n",
       "      <td>AAAAAAAAOMPAAAAA</td>\n",
       "      <td>36468</td>\n",
       "      <td>2450208</td>\n",
       "      <td>Helen</td>\n",
       "      <td>Milligan</td>\n",
       "      <td>CANADA</td>\n",
       "      <td>Helen.Milligan@E5ZRE5UKi3.edu</td>\n",
       "      <td>6ee4156ca7e8e9a5acc42704363f35e278eda738e851a5...</td>\n",
       "      <td>3fa0548fd3a7deea11dca80b0b363e7da54449d75e1934...</td>\n",
       "      <td>2934c0d677733c72dc1d8e307af2bc05bbdf9f2519b1cb...</td>\n",
       "    </tr>\n",
       "    <tr>\n",
       "      <th>86</th>\n",
       "      <td>86</td>\n",
       "      <td>11285</td>\n",
       "      <td>AAAAAAAAFBMCAAAA</td>\n",
       "      <td>41905</td>\n",
       "      <td>2452542</td>\n",
       "      <td>Michael</td>\n",
       "      <td>William</td>\n",
       "      <td>CANADA</td>\n",
       "      <td>Michael.William@0STd4.edu</td>\n",
       "      <td>e70bdf701bd91b2357ec83bd6fb74d602f2883beb6934d...</td>\n",
       "      <td>03fc33e5ab85d91dbd2fff8e844bb05d8b153cd5ddc2ae...</td>\n",
       "      <td>32eacf5818d5df1276ec7e65b6fcad71e83146ad8953d9...</td>\n",
       "    </tr>\n",
       "    <tr>\n",
       "      <th>19</th>\n",
       "      <td>19</td>\n",
       "      <td>15342</td>\n",
       "      <td>AAAAAAAAOOLDAAAA</td>\n",
       "      <td>25802</td>\n",
       "      <td>2449700</td>\n",
       "      <td>Brian</td>\n",
       "      <td>Couture</td>\n",
       "      <td>CANADA</td>\n",
       "      <td>Brian.Couture@RPap2Eh3.org</td>\n",
       "      <td>75f8b294e47b5c246b846650f645513c24fd3b0e783f89...</td>\n",
       "      <td>457a337a9330b828bf5b3d2f5fd2502ec85bf3090661f8...</td>\n",
       "      <td>73f0e329975a6442b7ee2c13b06fbae0843cab82543ed6...</td>\n",
       "    </tr>\n",
       "    <tr>\n",
       "      <th>67</th>\n",
       "      <td>67</td>\n",
       "      <td>43674</td>\n",
       "      <td>AAAAAAAAKJKKAAAA</td>\n",
       "      <td>12182</td>\n",
       "      <td>2449207</td>\n",
       "      <td>Michael</td>\n",
       "      <td>Orta</td>\n",
       "      <td>MEXICO</td>\n",
       "      <td>Michael.Orta@XpMn2kc.org</td>\n",
       "      <td>e70bdf701bd91b2357ec83bd6fb74d602f2883beb6934d...</td>\n",
       "      <td>51115e284bf9f86385f9cc16aaf191d2e8c7be08007854...</td>\n",
       "      <td>a68e1f6a6d872682271ba00459b2ac0fc2d8d95cd55966...</td>\n",
       "    </tr>\n",
       "  </tbody>\n",
       "</table>\n",
       "</div>"
      ],
      "text/plain": [
       "    Unnamed: 0  c_customer_sk     c_customer_id  c_current_addr_sk  \\\n",
       "68          68          31782  AAAAAAAAGCMHAAAA              14930   \n",
       "2            2           4046  AAAAAAAAOMPAAAAA              36468   \n",
       "86          86          11285  AAAAAAAAFBMCAAAA              41905   \n",
       "19          19          15342  AAAAAAAAOOLDAAAA              25802   \n",
       "67          67          43674  AAAAAAAAKJKKAAAA              12182   \n",
       "\n",
       "    c_first_shipto_date_sk c_first_name c_last_name c_birth_country  \\\n",
       "68                 2449719      Heather      Miller          MEXICO   \n",
       "2                  2450208        Helen    Milligan          CANADA   \n",
       "86                 2452542      Michael     William          CANADA   \n",
       "19                 2449700        Brian     Couture          CANADA   \n",
       "67                 2449207      Michael        Orta          MEXICO   \n",
       "\n",
       "                  c_email_address  \\\n",
       "68   Heather.Miller@8upQdZo0M.org   \n",
       "2   Helen.Milligan@E5ZRE5UKi3.edu   \n",
       "86      Michael.William@0STd4.edu   \n",
       "19     Brian.Couture@RPap2Eh3.org   \n",
       "67       Michael.Orta@XpMn2kc.org   \n",
       "\n",
       "                                  c_first_name_hashed  \\\n",
       "68  d30a929612428b6e5da066dd090d12b5205f2d8e1f184e...   \n",
       "2   6ee4156ca7e8e9a5acc42704363f35e278eda738e851a5...   \n",
       "86  e70bdf701bd91b2357ec83bd6fb74d602f2883beb6934d...   \n",
       "19  75f8b294e47b5c246b846650f645513c24fd3b0e783f89...   \n",
       "67  e70bdf701bd91b2357ec83bd6fb74d602f2883beb6934d...   \n",
       "\n",
       "                                   c_last_name_hashed  \\\n",
       "68  d1811f566eeaf741f1bcf5f3e0b452a26e1d6b1e519e2b...   \n",
       "2   3fa0548fd3a7deea11dca80b0b363e7da54449d75e1934...   \n",
       "86  03fc33e5ab85d91dbd2fff8e844bb05d8b153cd5ddc2ae...   \n",
       "19  457a337a9330b828bf5b3d2f5fd2502ec85bf3090661f8...   \n",
       "67  51115e284bf9f86385f9cc16aaf191d2e8c7be08007854...   \n",
       "\n",
       "                               c_email_address_hashed  \n",
       "68  42c33357b71b3619a5fc54a8728a7286b734dabe01052d...  \n",
       "2   2934c0d677733c72dc1d8e307af2bc05bbdf9f2519b1cb...  \n",
       "86  32eacf5818d5df1276ec7e65b6fcad71e83146ad8953d9...  \n",
       "19  73f0e329975a6442b7ee2c13b06fbae0843cab82543ed6...  \n",
       "67  a68e1f6a6d872682271ba00459b2ac0fc2d8d95cd55966...  "
      ]
     },
     "execution_count": 41,
     "metadata": {},
     "output_type": "execute_result"
    }
   ],
   "source": [
    "parquet_df = pd.read_csv(output_filename)\n",
    "parquet_df.sample(5)"
   ]
  },
  {
   "cell_type": "code",
   "execution_count": null,
   "metadata": {},
   "outputs": [],
   "source": []
  }
 ],
 "metadata": {
  "environment": {
   "name": "common-cpu.m54",
   "type": "gcloud",
   "uri": "gcr.io/deeplearning-platform-release/base-cpu:m54"
  },
  "kernelspec": {
   "display_name": "Python 3",
   "language": "python",
   "name": "python3"
  },
  "language_info": {
   "codemirror_mode": {
    "name": "ipython",
    "version": 3
   },
   "file_extension": ".py",
   "mimetype": "text/x-python",
   "name": "python",
   "nbconvert_exporter": "python",
   "pygments_lexer": "ipython3",
   "version": "3.7.8"
  }
 },
 "nbformat": 4,
 "nbformat_minor": 4
}
